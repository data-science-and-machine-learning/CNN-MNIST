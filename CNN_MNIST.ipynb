{
  "nbformat": 4,
  "nbformat_minor": 0,
  "metadata": {
    "colab": {
      "name": "CNN_MNIST.ipynb",
      "version": "0.3.2",
      "provenance": [],
      "collapsed_sections": [
        "5fmUyCK6E8Eg",
        "XFFugYCmroRg"
      ],
      "include_colab_link": true
    },
    "kernelspec": {
      "name": "python3",
      "display_name": "Python 3"
    },
    "accelerator": "GPU"
  },
  "cells": [
    {
      "cell_type": "markdown",
      "metadata": {
        "id": "view-in-github",
        "colab_type": "text"
      },
      "source": [
        "<a href=\"https://colab.research.google.com/github/data-science-and-machine-learning/CNN-MNIST/blob/master/CNN_MNIST.ipynb\" target=\"_parent\"><img src=\"https://colab.research.google.com/assets/colab-badge.svg\" alt=\"Open In Colab\"/></a>"
      ]
    },
    {
      "cell_type": "code",
      "metadata": {
        "id": "E3Av0nbKqrWn",
        "colab_type": "code",
        "outputId": "611f8bf6-6252-440c-f174-db2a4db5746f",
        "colab": {
          "base_uri": "https://localhost:8080/",
          "height": 124
        }
      },
      "source": [
        "# Credits: https://github.com/keras-team/keras/blob/master/examples/mnist_cnn.py\n",
        "\n",
        "\n",
        "from __future__ import print_function\n",
        "import keras\n",
        "from keras.datasets import mnist\n",
        "from keras.models import Sequential\n",
        "from keras.layers import Dense, Dropout, Flatten\n",
        "from keras.layers import Conv2D, MaxPooling2D, BatchNormalization\n",
        "from keras import backend as K\n",
        "import numpy as np\n",
        "\n",
        "batch_size = 128\n",
        "num_classes = 10\n",
        "epochs = 12\n",
        "\n",
        "# input image dimensions\n",
        "img_rows, img_cols = 28, 28\n",
        "\n",
        "# the data, split between train and test sets\n",
        "(x_train, y_train), (x_test, y_test) = mnist.load_data()\n",
        "\n",
        "if K.image_data_format() == 'channels_first':\n",
        "    x_train = x_train.reshape(x_train.shape[0], 1, img_rows, img_cols)\n",
        "    x_test = x_test.reshape(x_test.shape[0], 1, img_rows, img_cols)\n",
        "    input_shape = (1, img_rows, img_cols)\n",
        "else:\n",
        "    x_train = x_train.reshape(x_train.shape[0], img_rows, img_cols, 1)\n",
        "    x_test = x_test.reshape(x_test.shape[0], img_rows, img_cols, 1)\n",
        "    input_shape = (img_rows, img_cols, 1)\n",
        "\n",
        "x_train = x_train.astype('float32')\n",
        "x_test = x_test.astype('float32')\n",
        "x_train /= 255\n",
        "x_test /= 255\n",
        "print('x_train shape:', x_train.shape)\n",
        "print(x_train.shape[0], 'train samples')\n",
        "print(x_test.shape[0], 'test samples')\n",
        "\n",
        "# convert class vectors to binary class matrices\n",
        "y_train = keras.utils.to_categorical(y_train, num_classes)\n",
        "y_test = keras.utils.to_categorical(y_test, num_classes)\n",
        "\n",
        "def plt_dynamic(x, vy, ty, colors=['b']):\n",
        "    fig,ax = plt.subplots(1,1)\n",
        "    ax.set_xlabel('epoch')\n",
        "    ax.set_ylabel('Categorical Crossentropy Loss')\n",
        "    ax.plot(x, vy, 'b', label=\"Validation Loss\")\n",
        "    ax.plot(x, ty, 'r', label=\"Train Loss\")\n",
        "    plt.legend()\n",
        "    plt.grid()\n",
        "    fig.canvas.draw()\n"
      ],
      "execution_count": 1,
      "outputs": [
        {
          "output_type": "stream",
          "text": [
            "Using TensorFlow backend.\n"
          ],
          "name": "stderr"
        },
        {
          "output_type": "stream",
          "text": [
            "Downloading data from https://s3.amazonaws.com/img-datasets/mnist.npz\n",
            "11493376/11490434 [==============================] - 2s 0us/step\n",
            "x_train shape: (60000, 28, 28, 1)\n",
            "60000 train samples\n",
            "10000 test samples\n"
          ],
          "name": "stdout"
        }
      ]
    },
    {
      "cell_type": "code",
      "metadata": {
        "id": "H9EU0e8yzFOm",
        "colab_type": "code",
        "outputId": "abef9363-6a96-434f-d2b4-33aecd37f851",
        "colab": {
          "base_uri": "https://localhost:8080/",
          "height": 497
        }
      },
      "source": [
        "model = Sequential()\n",
        "model.add(Conv2D(32, kernel_size=(3, 3),\n",
        "                 activation='relu',\n",
        "                 input_shape=input_shape))\n",
        "model.add(Conv2D(64, (3, 3), activation='relu'))\n",
        "model.add(MaxPooling2D(pool_size=(2, 2)))\n",
        "model.add(Dropout(0.25))\n",
        "model.add(Flatten())\n",
        "model.add(Dense(128, activation='relu'))\n",
        "model.add(Dropout(0.5))\n",
        "model.add(Dense(num_classes, activation='softmax'))\n",
        "\n",
        "model.compile(loss=keras.losses.categorical_crossentropy,\n",
        "              optimizer=keras.optimizers.Adadelta(),\n",
        "              metrics=['accuracy'])\n",
        "\n",
        "model.fit(x_train, y_train,\n",
        "          batch_size=batch_size,\n",
        "          epochs=epochs,\n",
        "          verbose=1,\n",
        "          validation_data=(x_test, y_test))\n",
        "score = model.evaluate(x_test, y_test, verbose=0)\n",
        "print('Test loss:', score[0])\n",
        "print('Test accuracy:', score[1])"
      ],
      "execution_count": 24,
      "outputs": [
        {
          "output_type": "stream",
          "text": [
            "Train on 60000 samples, validate on 10000 samples\n",
            "Epoch 1/12\n",
            "60000/60000 [==============================] - 20s 341us/step - loss: 0.2944 - acc: 0.9102 - val_loss: 0.0642 - val_acc: 0.9801\n",
            "Epoch 2/12\n",
            "60000/60000 [==============================] - 10s 164us/step - loss: 0.0927 - acc: 0.9719 - val_loss: 0.0442 - val_acc: 0.9852\n",
            "Epoch 3/12\n",
            "60000/60000 [==============================] - 10s 164us/step - loss: 0.0700 - acc: 0.9791 - val_loss: 0.0356 - val_acc: 0.9879\n",
            "Epoch 4/12\n",
            "60000/60000 [==============================] - 10s 165us/step - loss: 0.0554 - acc: 0.9833 - val_loss: 0.0293 - val_acc: 0.9904\n",
            "Epoch 5/12\n",
            "60000/60000 [==============================] - 10s 164us/step - loss: 0.0477 - acc: 0.9854 - val_loss: 0.0301 - val_acc: 0.9900\n",
            "Epoch 6/12\n",
            "60000/60000 [==============================] - 10s 166us/step - loss: 0.0434 - acc: 0.9868 - val_loss: 0.0307 - val_acc: 0.9906\n",
            "Epoch 7/12\n",
            "60000/60000 [==============================] - 10s 165us/step - loss: 0.0398 - acc: 0.9880 - val_loss: 0.0281 - val_acc: 0.9911\n",
            "Epoch 8/12\n",
            "60000/60000 [==============================] - 10s 165us/step - loss: 0.0342 - acc: 0.9895 - val_loss: 0.0261 - val_acc: 0.9920\n",
            "Epoch 9/12\n",
            "60000/60000 [==============================] - 10s 165us/step - loss: 0.0323 - acc: 0.9898 - val_loss: 0.0276 - val_acc: 0.9917\n",
            "Epoch 10/12\n",
            "60000/60000 [==============================] - 10s 165us/step - loss: 0.0301 - acc: 0.9906 - val_loss: 0.0271 - val_acc: 0.9917\n",
            "Epoch 11/12\n",
            "60000/60000 [==============================] - 10s 167us/step - loss: 0.0285 - acc: 0.9908 - val_loss: 0.0270 - val_acc: 0.9922\n",
            "Epoch 12/12\n",
            "60000/60000 [==============================] - 10s 167us/step - loss: 0.0273 - acc: 0.9920 - val_loss: 0.0249 - val_acc: 0.9927\n",
            "Test loss: 0.024942439158637718\n",
            "Test accuracy: 0.9927\n"
          ],
          "name": "stdout"
        }
      ]
    },
    {
      "cell_type": "markdown",
      "metadata": {
        "id": "5fmUyCK6E8Eg",
        "colab_type": "text"
      },
      "source": [
        "## Model 1 : Hyperparameter tuning on kernel size, applying cross validation and comparing results"
      ]
    },
    {
      "cell_type": "code",
      "metadata": {
        "id": "bi-oatEO_gw_",
        "colab_type": "code",
        "outputId": "8cd91dcb-e5e0-42de-e976-caf2461fa13f",
        "colab": {
          "base_uri": "https://localhost:8080/",
          "height": 70
        }
      },
      "source": [
        "def conv_model(kernel):\n",
        "  model_1 = Sequential()\n",
        "  #Layer 1 [ReLU]\n",
        "  model_1.add(Conv2D(32, kernel_size=kernel,\n",
        "                  activation='relu',\n",
        "                  input_shape=input_shape))\n",
        "\n",
        "  #Layer 2 [ReLU]\n",
        "  model_1.add(Conv2D(64, kernel, activation='relu'))\n",
        "  model_1.add(MaxPooling2D(pool_size=(2, 2)))\n",
        "  model_1.add(Dropout(0.25))\n",
        "\n",
        "  #Layer 3 [ReLU]\n",
        "  model_1.add(Flatten())\n",
        "  model_1.add(Dense(128, activation='relu'))\n",
        "  model_1.add(Dropout(0.5))\n",
        "\n",
        "  #Layer 4 [Softmax]\n",
        "  model_1.add(Dense(num_classes, activation='softmax'))\n",
        "\n",
        "  model_1.compile(loss=keras.losses.categorical_crossentropy,\n",
        "                optimizer=keras.optimizers.Adadelta(),\n",
        "                metrics=['accuracy'])\n",
        "  return model_1\n",
        "\n",
        "\n",
        "from keras.wrappers.scikit_learn import KerasClassifier\n",
        "from sklearn.model_selection import GridSearchCV, ShuffleSplit\n",
        "\n",
        "model = KerasClassifier(build_fn=conv_model, epochs=20, verbose=0)\n",
        "\n",
        "batch = [32, 64, 128]\n",
        "param_grid = dict(batch_size=batch,\\\n",
        "                  kernel= [(3,3), (5,5), (7,7)]\n",
        "                  )\n",
        "\n",
        "grid = GridSearchCV(estimator= model, param_grid= param_grid, cv= 2, return_train_score= True, verbose= 1)\n",
        "grid_result_kernel_hptuning= grid.fit(x_train, y_train)"
      ],
      "execution_count": 25,
      "outputs": [
        {
          "output_type": "stream",
          "text": [
            "Fitting 2 folds for each of 9 candidates, totalling 18 fits\n"
          ],
          "name": "stdout"
        },
        {
          "output_type": "stream",
          "text": [
            "[Parallel(n_jobs=1)]: Using backend SequentialBackend with 1 concurrent workers.\n",
            "[Parallel(n_jobs=1)]: Done  18 out of  18 | elapsed: 51.6min finished\n"
          ],
          "name": "stderr"
        }
      ]
    },
    {
      "cell_type": "code",
      "metadata": {
        "id": "t2LDPWnbEsFl",
        "colab_type": "code",
        "outputId": "27e617ab-da73-4b7f-cb4a-99b569068527",
        "colab": {
          "base_uri": "https://localhost:8080/",
          "height": 212
        }
      },
      "source": [
        "print(\"Best: %f using %s\" % (grid_result_kernel_hptuning.best_score_, grid_result_kernel_hptuning.best_params_))\n",
        "print(\"Best estimator: \", grid_result_kernel_hptuning.best_estimator_)\n",
        "\n",
        "means_test = grid_result_kernel_hptuning.cv_results_['mean_test_score']\n",
        "means_train = grid_result_kernel_hptuning.cv_results_['mean_train_score']\n",
        "stds_test = grid_result_kernel_hptuning.cv_results_['std_test_score']\n",
        "stds_train = grid_result_kernel_hptuning.cv_results_['std_train_score']\n",
        "params = grid_result_kernel_hptuning.cv_results_['params']\n",
        "\n",
        "for mean, mean_train, stdev, param in zip(means_test, means_train, stds_test, params):\n",
        "    print(\"%f %f (%f) with: %r\" % (mean, mean_train, stdev, param))"
      ],
      "execution_count": 30,
      "outputs": [
        {
          "output_type": "stream",
          "text": [
            "Best: 0.991367 using {'batch_size': 64, 'kernel': (7, 7)}\n",
            "Best estimator:  <keras.wrappers.scikit_learn.KerasClassifier object at 0x7f5a831fde80>\n",
            "0.987983 0.998283 (0.000383) with: {'batch_size': 32, 'kernel': (3, 3)}\n",
            "0.989783 0.999250 (0.000250) with: {'batch_size': 32, 'kernel': (5, 5)}\n",
            "0.990533 0.999533 (0.001067) with: {'batch_size': 32, 'kernel': (7, 7)}\n",
            "0.988783 0.999150 (0.000383) with: {'batch_size': 64, 'kernel': (3, 3)}\n",
            "0.990667 0.999333 (0.000300) with: {'batch_size': 64, 'kernel': (5, 5)}\n",
            "0.991367 0.999633 (0.000100) with: {'batch_size': 64, 'kernel': (7, 7)}\n",
            "0.989117 0.999317 (0.000783) with: {'batch_size': 128, 'kernel': (3, 3)}\n",
            "0.990117 0.999167 (0.000050) with: {'batch_size': 128, 'kernel': (5, 5)}\n",
            "0.990700 0.999300 (0.000800) with: {'batch_size': 128, 'kernel': (7, 7)}\n"
          ],
          "name": "stdout"
        }
      ]
    },
    {
      "cell_type": "code",
      "metadata": {
        "id": "IjjiNpb-3nfy",
        "colab_type": "code",
        "colab": {
          "base_uri": "https://localhost:8080/",
          "height": 35
        },
        "outputId": "9171ed75-04db-44c2-9af2-50de4b0e3063"
      },
      "source": [
        "import pickle\n",
        "with open('grid_result_kernel_hptuning_cv_results.pickle', 'wb') as handle:\n",
        "    pickle.dump(grid_result_kernel_hptuning.cv_results_, handle, protocol=pickle.HIGHEST_PROTOCOL)\n",
        "!cp grid_result_kernel_hptuning.pickle drive/My\\ Drive/CNN_models/"
      ],
      "execution_count": 27,
      "outputs": [
        {
          "output_type": "stream",
          "text": [
            "cp: cannot stat 'grid_result_kernel_hptuning.pickle': No such file or directory\n"
          ],
          "name": "stdout"
        }
      ]
    },
    {
      "cell_type": "code",
      "metadata": {
        "id": "X5Yj8v7gHrGh",
        "colab_type": "code",
        "outputId": "23f90dce-f9da-494c-a92b-e31916a3d461",
        "colab": {
          "base_uri": "https://localhost:8080/",
          "height": 647
        }
      },
      "source": [
        "import matplotlib.pyplot as plt\n",
        "import numpy as np\n",
        "fig, ax = plt.subplots(figsize=(20,10))\n",
        "\n",
        "ind= np.arange(len(params))\n",
        "width= 0.35\n",
        "print(len(params))\n",
        "\n",
        "rects1 = ax.bar(ind - width/2, means_test, width, \n",
        "                label='Mean Test Score')\n",
        "rects2 = ax.bar(ind + width/2, means_train, width, \n",
        "                label='Mean Train Score')\n",
        "\n",
        "ax.set_xticks(ind)\n",
        "ax.set_xticklabels([param['kernel'] for param in params], rotation=45)\n",
        "batches= [param['batch_size'] for param in params]\n",
        "\n",
        "i= 0\n",
        "for rect in rects1:\n",
        "    ax.annotate('Batch: {}  Acc:{:.3f}'.format(batches[i], means_test[i]*100), rotation=90,\n",
        "                xy=(rect.get_x() + rect.get_width() / 2, 0.99),\n",
        "                xytext=(0, 3),  # use 3 points offset\n",
        "                textcoords=\"offset points\",  # in both directions\n",
        "                ha='center', va='bottom',\n",
        "                horizontalalignment='center', verticalalignment='center_baseline')\n",
        "    i+=1\n",
        "i=0\n",
        "for rect in rects2:\n",
        "    ax.annotate('Batch: {}  Acc:{:.3f}'.format(batches[i], means_train[i]*100), rotation=90,\n",
        "                xy=(rect.get_x() + rect.get_width() / 2, 0.99),\n",
        "                xytext=(0, 3),  # use 3 points offset\n",
        "                textcoords=\"offset points\",  # in both directions\n",
        "                ha='center', va='bottom')\n",
        "    i+=1\n",
        "ax.set_ylim(bottom=0.99)\n",
        "ax.legend(loc= 'upper left')"
      ],
      "execution_count": 28,
      "outputs": [
        {
          "output_type": "stream",
          "text": [
            "9\n"
          ],
          "name": "stdout"
        },
        {
          "output_type": "execute_result",
          "data": {
            "text/plain": [
              "<matplotlib.legend.Legend at 0x7f5a80f36e80>"
            ]
          },
          "metadata": {
            "tags": []
          },
          "execution_count": 28
        },
        {
          "output_type": "display_data",
          "data": {
            "image/png": "[encoded data removed]",
            "text/plain": [
              "<Figure size 1440x720 with 1 Axes>"
            ]
          },
          "metadata": {
            "tags": []
          }
        }
      ]
    },
    {
      "cell_type": "markdown",
      "metadata": {
        "id": "vBMmvmMr5RpQ",
        "colab_type": "text"
      },
      "source": [
        "It can be observed (7, 7) kernel improved test result and best among all with 64 batch size"
      ]
    },
    {
      "cell_type": "code",
      "metadata": {
        "id": "GwaEbeXkvJAF",
        "colab_type": "code",
        "colab": {
          "base_uri": "https://localhost:8080/",
          "height": 1000
        },
        "outputId": "c11dae88-4841-4ee4-e4bf-90b734e83780"
      },
      "source": [
        "# best model\n",
        "model= conv_model((7, 7))\n",
        "model.compile(loss=keras.losses.categorical_crossentropy,\n",
        "              optimizer=keras.optimizers.Adam(),\n",
        "              metrics=['accuracy'])\n",
        "\n",
        "history= model.fit(x_train, y_train,\n",
        "          batch_size=32,\n",
        "          epochs=20,\n",
        "          verbose=1,\n",
        "          validation_data=(x_test, y_test))\n",
        "score = model.evaluate(x_test, y_test, verbose=0)\n",
        "print('Test loss:', score[0])\n",
        "print('Test accuracy:', score[1])\n",
        "\n",
        "x = list(range(1,21))\n",
        "vy = history.history['val_loss']\n",
        "ty = history.history['loss']\n",
        "plt_dynamic(x, vy, ty, 1)"
      ],
      "execution_count": 29,
      "outputs": [
        {
          "output_type": "stream",
          "text": [
            "Train on 60000 samples, validate on 10000 samples\n",
            "Epoch 1/20\n",
            "60000/60000 [==============================] - 39s 654us/step - loss: 0.1753 - acc: 0.9466 - val_loss: 0.0418 - val_acc: 0.9860\n",
            "Epoch 2/20\n",
            "60000/60000 [==============================] - 26s 434us/step - loss: 0.0688 - acc: 0.9798 - val_loss: 0.0273 - val_acc: 0.9914\n",
            "Epoch 3/20\n",
            "60000/60000 [==============================] - 26s 434us/step - loss: 0.0508 - acc: 0.9850 - val_loss: 0.0259 - val_acc: 0.9916\n",
            "Epoch 4/20\n",
            "60000/60000 [==============================] - 26s 434us/step - loss: 0.0413 - acc: 0.9879 - val_loss: 0.0275 - val_acc: 0.9913\n",
            "Epoch 5/20\n",
            "60000/60000 [==============================] - 26s 433us/step - loss: 0.0376 - acc: 0.9889 - val_loss: 0.0238 - val_acc: 0.9926\n",
            "Epoch 6/20\n",
            "60000/60000 [==============================] - 26s 433us/step - loss: 0.0345 - acc: 0.9893 - val_loss: 0.0237 - val_acc: 0.9930\n",
            "Epoch 7/20\n",
            "60000/60000 [==============================] - 26s 433us/step - loss: 0.0307 - acc: 0.9906 - val_loss: 0.0220 - val_acc: 0.9936\n",
            "Epoch 8/20\n",
            "60000/60000 [==============================] - 26s 436us/step - loss: 0.0265 - acc: 0.9921 - val_loss: 0.0342 - val_acc: 0.9915\n",
            "Epoch 9/20\n",
            "60000/60000 [==============================] - 26s 435us/step - loss: 0.0241 - acc: 0.9926 - val_loss: 0.0311 - val_acc: 0.9917\n",
            "Epoch 10/20\n",
            "60000/60000 [==============================] - 26s 436us/step - loss: 0.0248 - acc: 0.9925 - val_loss: 0.0254 - val_acc: 0.9936\n",
            "Epoch 11/20\n",
            "60000/60000 [==============================] - 26s 437us/step - loss: 0.0214 - acc: 0.9939 - val_loss: 0.0278 - val_acc: 0.9926\n",
            "Epoch 12/20\n",
            "60000/60000 [==============================] - 26s 438us/step - loss: 0.0206 - acc: 0.9937 - val_loss: 0.0219 - val_acc: 0.9943\n",
            "Epoch 13/20\n",
            "60000/60000 [==============================] - 26s 439us/step - loss: 0.0192 - acc: 0.9942 - val_loss: 0.0286 - val_acc: 0.9926\n",
            "Epoch 14/20\n",
            "60000/60000 [==============================] - 26s 433us/step - loss: 0.0204 - acc: 0.9942 - val_loss: 0.0267 - val_acc: 0.9942\n",
            "Epoch 15/20\n",
            "60000/60000 [==============================] - 26s 433us/step - loss: 0.0199 - acc: 0.9944 - val_loss: 0.0313 - val_acc: 0.9927\n",
            "Epoch 16/20\n",
            "60000/60000 [==============================] - 26s 434us/step - loss: 0.0186 - acc: 0.9948 - val_loss: 0.0268 - val_acc: 0.9937\n",
            "Epoch 17/20\n",
            "60000/60000 [==============================] - 26s 436us/step - loss: 0.0162 - acc: 0.9953 - val_loss: 0.0327 - val_acc: 0.9932\n",
            "Epoch 18/20\n",
            "60000/60000 [==============================] - 26s 436us/step - loss: 0.0187 - acc: 0.9950 - val_loss: 0.0249 - val_acc: 0.9945\n",
            "Epoch 19/20\n",
            "60000/60000 [==============================] - 26s 436us/step - loss: 0.0166 - acc: 0.9956 - val_loss: 0.0311 - val_acc: 0.9941\n",
            "Epoch 20/20\n",
            "60000/60000 [==============================] - 26s 436us/step - loss: 0.0168 - acc: 0.9950 - val_loss: 0.0373 - val_acc: 0.9933\n",
            "Test loss: 0.03727977000793396\n",
            "Test accuracy: 0.9933\n"
          ],
          "name": "stdout"
        },
        {
          "output_type": "display_data",
          "data": {
            "image/png": "[encoded data removed]",
            "text/plain": [
              "<Figure size 432x288 with 1 Axes>"
            ]
          },
          "metadata": {
            "tags": []
          }
        }
      ]
    },
    {
      "cell_type": "markdown",
      "metadata": {
        "colab_type": "text",
        "id": "XFFugYCmroRg"
      },
      "source": [
        "## Model 2 : Hyperparameter tuning with added Batch normalization, applying cross validation and comparing results"
      ]
    },
    {
      "cell_type": "code",
      "metadata": {
        "id": "rG5QXdBErOJg",
        "colab_type": "code",
        "outputId": "3e0803e7-098f-4a8a-bc79-5cea921e1d72",
        "colab": {
          "base_uri": "https://localhost:8080/",
          "height": 70
        }
      },
      "source": [
        "# Adding batch normalization to the model\n",
        "def conv_model(kernel):\n",
        "  Model_2= Sequential()\n",
        "  #Layer 1 [ReLU]\n",
        "  Model_2.add(Conv2D(32, kernel_size=kernel,\n",
        "                  activation='relu',\n",
        "                  input_shape=input_shape))\n",
        "  Model_2.add(BatchNormalization())\n",
        "\n",
        "  #Layer 2 [ReLU]\n",
        "  Model_2.add(Conv2D(64, kernel, activation='relu'))\n",
        "  Model_2.add(BatchNormalization())\n",
        "  Model_2.add(MaxPooling2D(pool_size=(2, 2)))\n",
        "  Model_2.add(Dropout(0.25))\n",
        "\n",
        "  #Layer 3 [ReLU]\n",
        "  Model_2.add(Flatten())\n",
        "  Model_2.add(Dense(128, activation='relu'))\n",
        "  Model_2.add(BatchNormalization())\n",
        "  Model_2.add(Dropout(0.5))\n",
        "\n",
        "  #Layer 4 [Softmax]\n",
        "  Model_2.add(Dense(num_classes, activation='softmax'))\n",
        "\n",
        "  Model_2.compile(loss=keras.losses.categorical_crossentropy,\n",
        "                optimizer=keras.optimizers.Adadelta(),\n",
        "                metrics=['accuracy'])\n",
        "  return Model_2\n",
        "\n",
        "\n",
        "from keras.wrappers.scikit_learn import KerasClassifier\n",
        "from sklearn.model_selection import GridSearchCV, ShuffleSplit\n",
        "\n",
        "model = KerasClassifier(build_fn=conv_model, epochs=20, verbose=0)\n",
        "\n",
        "batch = [32, 64, 128]\n",
        "param_grid = dict(batch_size=batch,\\\n",
        "                  kernel= [(3,3), (5,5), (7,7)]\n",
        "                  )\n",
        "\n",
        "grid = GridSearchCV(estimator= model, param_grid= param_grid, cv= 2, return_train_score= True, verbose= 1)\n",
        "grid_result_batchnorm= grid.fit(x_train, y_train)"
      ],
      "execution_count": 31,
      "outputs": [
        {
          "output_type": "stream",
          "text": [
            "Fitting 2 folds for each of 9 candidates, totalling 18 fits\n"
          ],
          "name": "stdout"
        },
        {
          "output_type": "stream",
          "text": [
            "[Parallel(n_jobs=1)]: Using backend SequentialBackend with 1 concurrent workers.\n",
            "[Parallel(n_jobs=1)]: Done  18 out of  18 | elapsed: 70.2min finished\n"
          ],
          "name": "stderr"
        }
      ]
    },
    {
      "cell_type": "code",
      "metadata": {
        "colab_type": "code",
        "id": "MCQOcCHMvFia",
        "outputId": "1bdcc6f5-fc96-4f67-daef-048128c25adb",
        "colab": {
          "base_uri": "https://localhost:8080/",
          "height": 212
        }
      },
      "source": [
        "print(\"Best: %f using %s\" % (grid_result_batchnorm.best_score_, grid_result_batchnorm.best_params_))\n",
        "print(\"Best estimator: \", grid_result_batchnorm.best_estimator_)\n",
        "\n",
        "means_test = grid_result_batchnorm.cv_results_['mean_test_score']\n",
        "means_train = grid_result_batchnorm.cv_results_['mean_train_score']\n",
        "stds_test = grid_result_batchnorm.cv_results_['std_test_score']\n",
        "stds_train = grid_result_batchnorm.cv_results_['std_train_score']\n",
        "params = grid_result_batchnorm.cv_results_['params']\n",
        "\n",
        "for mean, mean_train, stdev, param in zip(means_test, means_train, stds_test, params):\n",
        "    print(\"%f %f (%f) with: %r\" % (mean, mean_train, stdev, param))"
      ],
      "execution_count": 32,
      "outputs": [
        {
          "output_type": "stream",
          "text": [
            "Best: 0.991050 using {'batch_size': 128, 'kernel': (7, 7)}\n",
            "Best estimator:  <keras.wrappers.scikit_learn.KerasClassifier object at 0x7f5a7387f978>\n",
            "0.989033 0.999850 (0.000200) with: {'batch_size': 32, 'kernel': (3, 3)}\n",
            "0.990767 0.999917 (0.000300) with: {'batch_size': 32, 'kernel': (5, 5)}\n",
            "0.990183 0.999733 (0.001517) with: {'batch_size': 32, 'kernel': (7, 7)}\n",
            "0.988533 0.999900 (0.000633) with: {'batch_size': 64, 'kernel': (3, 3)}\n",
            "0.991000 0.999917 (0.000067) with: {'batch_size': 64, 'kernel': (5, 5)}\n",
            "0.990750 0.999833 (0.000150) with: {'batch_size': 64, 'kernel': (7, 7)}\n",
            "0.987950 0.999933 (0.000317) with: {'batch_size': 128, 'kernel': (3, 3)}\n",
            "0.989833 0.999767 (0.000167) with: {'batch_size': 128, 'kernel': (5, 5)}\n",
            "0.991050 0.999850 (0.000550) with: {'batch_size': 128, 'kernel': (7, 7)}\n"
          ],
          "name": "stdout"
        }
      ]
    },
    {
      "cell_type": "code",
      "metadata": {
        "id": "DBJmfpuy6AQ4",
        "colab_type": "code",
        "outputId": "5fd27e05-b7af-4e80-8bed-8fec7b804330",
        "colab": {
          "base_uri": "https://localhost:8080/",
          "height": 35
        }
      },
      "source": [
        "import pickle\n",
        "with open('grid_result_batchnorm_cv_results.pickle', 'wb') as handle:\n",
        "    pickle.dump(grid_result_batchnorm.cv_results_, handle, protocol=pickle.HIGHEST_PROTOCOL)\n",
        "!cp grid_result_batchnorm.pickle drive/My\\ Drive/CNN_models/"
      ],
      "execution_count": 33,
      "outputs": [
        {
          "output_type": "stream",
          "text": [
            "cp: cannot stat 'grid_result_batchnorm.pickle': No such file or directory\n"
          ],
          "name": "stdout"
        }
      ]
    },
    {
      "cell_type": "code",
      "metadata": {
        "colab_type": "code",
        "id": "cFfWk-_ZvFij",
        "outputId": "af40580e-494b-4178-8428-446e358ff5ce",
        "colab": {
          "base_uri": "https://localhost:8080/",
          "height": 375
        }
      },
      "source": [
        "import matplotlib.pyplot as plt\n",
        "import numpy as np\n",
        "fig, ax = plt.subplots(figsize=(20,5))\n",
        "\n",
        "ind= np.arange(len(params))\n",
        "width= 0.35\n",
        "print(len(params))\n",
        "\n",
        "rects1 = ax.bar(ind - width/2, means_test, width, \n",
        "                label='Mean Test Score')\n",
        "rects2 = ax.bar(ind + width/2, means_train, width, \n",
        "                label='Mean Train Score')\n",
        "\n",
        "ax.set_xticks(ind)\n",
        "ax.set_xticklabels([param['kernel'] for param in params], rotation=45)\n",
        "batches= [param['batch_size'] for param in params]\n",
        "\n",
        "i= 0\n",
        "for rect in rects1:\n",
        "    ax.annotate('Batch: {}  Acc:{:.3f}'.format(batches[i], means_test[i]*100), rotation=90,\n",
        "                xy=(rect.get_x() + rect.get_width() / 2, 0.99),\n",
        "                xytext=(0, 3),  # use 3 points offset\n",
        "                textcoords=\"offset points\",  # in both directions\n",
        "                ha='center', va='bottom',\n",
        "                horizontalalignment='center', verticalalignment='center_baseline')\n",
        "    i+=1\n",
        "i=0\n",
        "for rect in rects2:\n",
        "    ax.annotate('Batch: {}  Acc:{:.3f}'.format(batches[i], means_train[i]*100), rotation=90,\n",
        "                xy=(rect.get_x() + rect.get_width() / 2, 0.99),\n",
        "                xytext=(0, 3),  # use 3 points offset\n",
        "                textcoords=\"offset points\",  # in both directions\n",
        "                ha='center', va='bottom')\n",
        "    i+=1\n",
        "ax.set_ylim(bottom=0.99)\n",
        "ax.legend(loc= 'upper left')"
      ],
      "execution_count": 34,
      "outputs": [
        {
          "output_type": "stream",
          "text": [
            "9\n"
          ],
          "name": "stdout"
        },
        {
          "output_type": "execute_result",
          "data": {
            "text/plain": [
              "<matplotlib.legend.Legend at 0x7f5a807f5be0>"
            ]
          },
          "metadata": {
            "tags": []
          },
          "execution_count": 34
        },
        {
          "output_type": "display_data",
          "data": {
            "image/png": "[encoded data removed]",
            "text/plain": [
              "<Figure size 1440x360 with 1 Axes>"
            ]
          },
          "metadata": {
            "tags": []
          }
        }
      ]
    },
    {
      "cell_type": "markdown",
      "metadata": {
        "id": "zaAD8OACP2ov",
        "colab_type": "text"
      },
      "source": [
        "After applying batch normalization we can see 2 more models predicting more than 99% accuracy, also the best accuracy is 99.14 which is an improvement. Hence batch normalization is useful."
      ]
    },
    {
      "cell_type": "code",
      "metadata": {
        "id": "wP0PaeB4uGzS",
        "colab_type": "code",
        "colab": {
          "base_uri": "https://localhost:8080/",
          "height": 1000
        },
        "outputId": "c412f5ca-ad34-4b14-b200-375b391c766f"
      },
      "source": [
        "# best model\n",
        "model= conv_model((7, 7))\n",
        "model.compile(loss=keras.losses.categorical_crossentropy,\n",
        "              optimizer=keras.optimizers.Adam(),\n",
        "              metrics=['accuracy'])\n",
        "\n",
        "history= model.fit(x_train, y_train,\n",
        "          batch_size=32,\n",
        "          epochs=20,\n",
        "          verbose=1,\n",
        "          validation_data=(x_test, y_test))\n",
        "score = model.evaluate(x_test, y_test, verbose=0)\n",
        "print('Test loss:', score[0])\n",
        "print('Test accuracy:', score[1])\n",
        "\n",
        "x = list(range(1,21))\n",
        "vy = history.history['val_loss']\n",
        "ty = history.history['loss']\n",
        "plt_dynamic(x, vy, ty, 1)"
      ],
      "execution_count": 35,
      "outputs": [
        {
          "output_type": "stream",
          "text": [
            "Train on 60000 samples, validate on 10000 samples\n",
            "Epoch 1/20\n",
            "60000/60000 [==============================] - 52s 867us/step - loss: 0.1491 - acc: 0.9549 - val_loss: 0.0414 - val_acc: 0.9860\n",
            "Epoch 2/20\n",
            "60000/60000 [==============================] - 34s 572us/step - loss: 0.0647 - acc: 0.9802 - val_loss: 0.0257 - val_acc: 0.9914\n",
            "Epoch 3/20\n",
            "60000/60000 [==============================] - 35s 577us/step - loss: 0.0491 - acc: 0.9852 - val_loss: 0.0343 - val_acc: 0.9885\n",
            "Epoch 4/20\n",
            "60000/60000 [==============================] - 34s 572us/step - loss: 0.0447 - acc: 0.9867 - val_loss: 0.0232 - val_acc: 0.9918\n",
            "Epoch 5/20\n",
            "60000/60000 [==============================] - 34s 571us/step - loss: 0.0368 - acc: 0.9887 - val_loss: 0.0295 - val_acc: 0.9902\n",
            "Epoch 6/20\n",
            "60000/60000 [==============================] - 34s 570us/step - loss: 0.0306 - acc: 0.9908 - val_loss: 0.0168 - val_acc: 0.9945\n",
            "Epoch 7/20\n",
            "60000/60000 [==============================] - 34s 573us/step - loss: 0.0282 - acc: 0.9913 - val_loss: 0.0247 - val_acc: 0.9921\n",
            "Epoch 8/20\n",
            "60000/60000 [==============================] - 34s 571us/step - loss: 0.0245 - acc: 0.9925 - val_loss: 0.0187 - val_acc: 0.9939\n",
            "Epoch 9/20\n",
            "60000/60000 [==============================] - 34s 570us/step - loss: 0.0207 - acc: 0.9939 - val_loss: 0.0220 - val_acc: 0.9930\n",
            "Epoch 10/20\n",
            "60000/60000 [==============================] - 34s 569us/step - loss: 0.0196 - acc: 0.9937 - val_loss: 0.0189 - val_acc: 0.9940\n",
            "Epoch 11/20\n",
            "60000/60000 [==============================] - 34s 572us/step - loss: 0.0162 - acc: 0.9949 - val_loss: 0.0193 - val_acc: 0.9941\n",
            "Epoch 12/20\n",
            "60000/60000 [==============================] - 34s 574us/step - loss: 0.0152 - acc: 0.9952 - val_loss: 0.0197 - val_acc: 0.9941\n",
            "Epoch 13/20\n",
            "60000/60000 [==============================] - 34s 568us/step - loss: 0.0164 - acc: 0.9952 - val_loss: 0.0246 - val_acc: 0.9926\n",
            "Epoch 14/20\n",
            "60000/60000 [==============================] - 34s 571us/step - loss: 0.0140 - acc: 0.9956 - val_loss: 0.0218 - val_acc: 0.9936\n",
            "Epoch 15/20\n",
            "60000/60000 [==============================] - 34s 570us/step - loss: 0.0126 - acc: 0.9960 - val_loss: 0.0246 - val_acc: 0.9932\n",
            "Epoch 16/20\n",
            "60000/60000 [==============================] - 34s 572us/step - loss: 0.0116 - acc: 0.9962 - val_loss: 0.0246 - val_acc: 0.9928\n",
            "Epoch 17/20\n",
            "60000/60000 [==============================] - 34s 571us/step - loss: 0.0110 - acc: 0.9965 - val_loss: 0.0230 - val_acc: 0.9937\n",
            "Epoch 18/20\n",
            "60000/60000 [==============================] - 34s 570us/step - loss: 0.0105 - acc: 0.9967 - val_loss: 0.0240 - val_acc: 0.9934\n",
            "Epoch 19/20\n",
            "60000/60000 [==============================] - 34s 569us/step - loss: 0.0108 - acc: 0.9967 - val_loss: 0.0208 - val_acc: 0.9943\n",
            "Epoch 20/20\n",
            "60000/60000 [==============================] - 34s 570us/step - loss: 0.0085 - acc: 0.9974 - val_loss: 0.0215 - val_acc: 0.9944\n",
            "Test loss: 0.021496215207132945\n",
            "Test accuracy: 0.9944\n"
          ],
          "name": "stdout"
        },
        {
          "output_type": "display_data",
          "data": {
            "image/png": "[encoded data removed]",
            "text/plain": [
              "<Figure size 432x288 with 1 Axes>"
            ]
          },
          "metadata": {
            "tags": []
          }
        }
      ]
    },
    {
      "cell_type": "markdown",
      "metadata": {
        "colab_type": "text",
        "id": "OjueWHHKvbM8"
      },
      "source": [
        "## Model 3 : Hyperparameter tuning with varying kernels, applying cross validation and comparing results"
      ]
    },
    {
      "cell_type": "code",
      "metadata": {
        "colab_type": "code",
        "id": "W4_t1HVcvbM-",
        "outputId": "f4df4c45-76a2-488b-ab95-2c1e1c872fa6",
        "colab": {
          "base_uri": "https://localhost:8080/",
          "height": 499
        }
      },
      "source": [
        "# Adding batch normalization to the model\n",
        "def conv_model_varying_kernel(kernel_n):\n",
        "  Model_3 = Sequential()\n",
        "  #Layer 1 [ReLU]\n",
        "  Model_3.add(Conv2D(32, kernel_size=(kernel_n, kernel_n),\n",
        "                  activation='relu',\n",
        "                  input_shape=input_shape))\n",
        "  Model_3.add(BatchNormalization())\n",
        "\n",
        "  #Layer 2 [ReLU]\n",
        "  Model_3.add(Conv2D(64, (kernel_n+2, kernel_n+2), activation='relu'))\n",
        "  Model_3.add(BatchNormalization())\n",
        "  Model_3.add(MaxPooling2D(pool_size=(2, 2)))\n",
        "  Model_3.add(Dropout(0.25))\n",
        "\n",
        "  #Layer 3 [ReLU]\n",
        "  Model_3.add(Flatten())\n",
        "  Model_3.add(Dense(128, activation='relu'))\n",
        "  Model_3.add(BatchNormalization())\n",
        "  Model_3.add(Dropout(0.5))\n",
        "\n",
        "  #Layer 4 [Softmax]\n",
        "  Model_3.add(Dense(num_classes, activation='softmax'))\n",
        "\n",
        "  Model_3.compile(loss=keras.losses.categorical_crossentropy,\n",
        "                optimizer=keras.optimizers.Adadelta(),\n",
        "                metrics=['accuracy'])\n",
        "  return Model_3\n",
        "\n",
        "\n",
        "from keras.wrappers.scikit_learn import KerasClassifier\n",
        "from sklearn.model_selection import GridSearchCV, ShuffleSplit\n",
        "\n",
        "model = KerasClassifier(build_fn=conv_model_varying_kernel, epochs=20, verbose=0)\n",
        "\n",
        "batch = [32, 64, 128]\n",
        "param_grid = dict(batch_size=batch,\\\n",
        "                  kernel_n= [3, 5, 7]\n",
        "                  )\n",
        "\n",
        "grid = GridSearchCV(estimator= model, param_grid= param_grid, cv= 2, return_train_score= True, verbose= 1)\n",
        "grid_result_varyingkernel= grid.fit(x_train, y_train)"
      ],
      "execution_count": 2,
      "outputs": [
        {
          "output_type": "stream",
          "text": [
            "[Parallel(n_jobs=1)]: Using backend SequentialBackend with 1 concurrent workers.\n",
            "WARNING: Logging before flag parsing goes to stderr.\n",
            "W0819 02:19:09.553673 140023347165056 deprecation_wrapper.py:119] From /usr/local/lib/python3.6/dist-packages/keras/backend/tensorflow_backend.py:74: The name tf.get_default_graph is deprecated. Please use tf.compat.v1.get_default_graph instead.\n",
            "\n",
            "W0819 02:19:09.599063 140023347165056 deprecation_wrapper.py:119] From /usr/local/lib/python3.6/dist-packages/keras/backend/tensorflow_backend.py:517: The name tf.placeholder is deprecated. Please use tf.compat.v1.placeholder instead.\n",
            "\n",
            "W0819 02:19:09.605800 140023347165056 deprecation_wrapper.py:119] From /usr/local/lib/python3.6/dist-packages/keras/backend/tensorflow_backend.py:4138: The name tf.random_uniform is deprecated. Please use tf.random.uniform instead.\n",
            "\n"
          ],
          "name": "stderr"
        },
        {
          "output_type": "stream",
          "text": [
            "Fitting 2 folds for each of 9 candidates, totalling 18 fits\n"
          ],
          "name": "stdout"
        },
        {
          "output_type": "stream",
          "text": [
            "W0819 02:19:09.654608 140023347165056 deprecation_wrapper.py:119] From /usr/local/lib/python3.6/dist-packages/keras/backend/tensorflow_backend.py:174: The name tf.get_default_session is deprecated. Please use tf.compat.v1.get_default_session instead.\n",
            "\n",
            "W0819 02:19:09.655855 140023347165056 deprecation_wrapper.py:119] From /usr/local/lib/python3.6/dist-packages/keras/backend/tensorflow_backend.py:181: The name tf.ConfigProto is deprecated. Please use tf.compat.v1.ConfigProto instead.\n",
            "\n",
            "W0819 02:19:12.576645 140023347165056 deprecation_wrapper.py:119] From /usr/local/lib/python3.6/dist-packages/keras/backend/tensorflow_backend.py:1834: The name tf.nn.fused_batch_norm is deprecated. Please use tf.compat.v1.nn.fused_batch_norm instead.\n",
            "\n",
            "W0819 02:19:12.762494 140023347165056 deprecation_wrapper.py:119] From /usr/local/lib/python3.6/dist-packages/keras/backend/tensorflow_backend.py:3976: The name tf.nn.max_pool is deprecated. Please use tf.nn.max_pool2d instead.\n",
            "\n",
            "W0819 02:19:12.772203 140023347165056 deprecation.py:506] From /usr/local/lib/python3.6/dist-packages/keras/backend/tensorflow_backend.py:3445: calling dropout (from tensorflow.python.ops.nn_ops) with keep_prob is deprecated and will be removed in a future version.\n",
            "Instructions for updating:\n",
            "Please use `rate` instead of `keep_prob`. Rate should be set to `rate = 1 - keep_prob`.\n",
            "W0819 02:19:12.946156 140023347165056 deprecation_wrapper.py:119] From /usr/local/lib/python3.6/dist-packages/keras/optimizers.py:790: The name tf.train.Optimizer is deprecated. Please use tf.compat.v1.train.Optimizer instead.\n",
            "\n",
            "W0819 02:19:13.076368 140023347165056 deprecation.py:323] From /usr/local/lib/python3.6/dist-packages/tensorflow/python/ops/math_grad.py:1250: add_dispatch_support.<locals>.wrapper (from tensorflow.python.ops.array_ops) is deprecated and will be removed in a future version.\n",
            "Instructions for updating:\n",
            "Use tf.where in 2.0, which has the same broadcast rule as np.where\n",
            "[Parallel(n_jobs=1)]: Done  18 out of  18 | elapsed: 49.7min finished\n"
          ],
          "name": "stderr"
        }
      ]
    },
    {
      "cell_type": "code",
      "metadata": {
        "colab_type": "code",
        "id": "Ws88NuTxvbNC",
        "outputId": "6b8af524-9ca4-45c5-e1c9-ade0a184a8cc",
        "colab": {
          "base_uri": "https://localhost:8080/",
          "height": 212
        }
      },
      "source": [
        "print(\"Best: %f using %s\" % (grid_result_varyingkernel.best_score_, grid_result_varyingkernel.best_params_))\n",
        "print(\"Best estimator: \", grid_result_varyingkernel.best_estimator_)\n",
        "\n",
        "means_test = grid_result_varyingkernel.cv_results_['mean_test_score']\n",
        "means_train = grid_result_varyingkernel.cv_results_['mean_train_score']\n",
        "stds_test = grid_result_varyingkernel.cv_results_['std_test_score']\n",
        "stds_train = grid_result_varyingkernel.cv_results_['std_train_score']\n",
        "params = grid_result_varyingkernel.cv_results_['params']\n",
        "\n",
        "for mean, mean_train, stdev, param in zip(means_test, means_train, stds_test, params):\n",
        "    print(\"%f %f (%f) with: %r\" % (mean, mean_train, stdev, param))"
      ],
      "execution_count": 3,
      "outputs": [
        {
          "output_type": "stream",
          "text": [
            "Best: 0.991433 using {'batch_size': 64, 'kernel_n': 7}\n",
            "Best estimator:  <keras.wrappers.scikit_learn.KerasClassifier object at 0x7f596f036080>\n",
            "0.990133 0.999950 (0.000267) with: {'batch_size': 32, 'kernel_n': 3}\n",
            "0.991200 0.999900 (0.000700) with: {'batch_size': 32, 'kernel_n': 5}\n",
            "0.991033 0.999867 (0.000100) with: {'batch_size': 32, 'kernel_n': 7}\n",
            "0.990250 0.999933 (0.000317) with: {'batch_size': 64, 'kernel_n': 3}\n",
            "0.990133 0.999583 (0.000667) with: {'batch_size': 64, 'kernel_n': 5}\n",
            "0.991433 1.000000 (0.000267) with: {'batch_size': 64, 'kernel_n': 7}\n",
            "0.990133 0.999967 (0.000333) with: {'batch_size': 128, 'kernel_n': 3}\n",
            "0.990817 0.999950 (0.000617) with: {'batch_size': 128, 'kernel_n': 5}\n",
            "0.990850 1.000000 (0.000617) with: {'batch_size': 128, 'kernel_n': 7}\n"
          ],
          "name": "stdout"
        }
      ]
    },
    {
      "cell_type": "code",
      "metadata": {
        "id": "0XHoPCwRRXjd",
        "colab_type": "code",
        "colab": {
          "base_uri": "https://localhost:8080/",
          "height": 35
        },
        "outputId": "07ac9bd2-33fc-48d8-cb7a-15e727d33c58"
      },
      "source": [
        "import pickle\n",
        "with open('grid_result_varyingkernel.pickle', 'wb') as handle:\n",
        "    pickle.dump(grid_result_varyingkernel.cv_results_, handle, protocol=pickle.HIGHEST_PROTOCOL)\n",
        "!cp grid_result_varyingkernel.pickle drive/My\\ Drive/CNN_models/"
      ],
      "execution_count": 4,
      "outputs": [
        {
          "output_type": "stream",
          "text": [
            "cp: cannot create regular file 'drive/My Drive/CNN_models/': No such file or directory\n"
          ],
          "name": "stdout"
        }
      ]
    },
    {
      "cell_type": "code",
      "metadata": {
        "colab_type": "code",
        "id": "g66CQoUvvbNF",
        "outputId": "0d6849b6-8167-4572-f5ee-00d243c73d5b",
        "colab": {
          "base_uri": "https://localhost:8080/",
          "height": 632
        }
      },
      "source": [
        "import matplotlib.pyplot as plt\n",
        "\n",
        "fig, ax = plt.subplots(figsize=(20,10))\n",
        "\n",
        "ind= np.arange(len(params))\n",
        "width= 0.35\n",
        "print(len(params))\n",
        "\n",
        "rects1 = ax.bar(ind - width/2, means_test, width, \n",
        "                label='Mean Test Score')\n",
        "rects2 = ax.bar(ind + width/2, means_train, width, \n",
        "                label='Mean Train Score')\n",
        "\n",
        "ax.set_xticks(ind)\n",
        "ax.set_xticklabels([param['kernel_n'] for param in params], rotation=45)\n",
        "batches= [param['batch_size'] for param in params]\n",
        "\n",
        "i= 0\n",
        "for rect in rects1:\n",
        "    ax.annotate('Acc:{:.3f}'.format(means_test[i]*100), rotation=90,\n",
        "                xy=(rect.get_x() + rect.get_width() / 2, 0.99),\n",
        "                xytext=(0, 3),  # use 3 points offset\n",
        "                textcoords=\"offset points\",  # in both directions\n",
        "                ha='center', va='bottom',\n",
        "                horizontalalignment='center', verticalalignment='center_baseline')\n",
        "    i+=1\n",
        "i=0\n",
        "for rect in rects2:\n",
        "    ax.annotate('Acc:{:.3f}'.format(means_train[i]*100), rotation=90,\n",
        "                xy=(rect.get_x() + rect.get_width() / 2, 0.99),\n",
        "                xytext=(0, 3),  # use 3 points offset\n",
        "                textcoords=\"offset points\",  # in both directions\n",
        "                ha='center', va='bottom')\n",
        "    i+=1\n",
        "ax.set_ylim(bottom=0.99)\n",
        "ax.legend(loc= 'upper left')"
      ],
      "execution_count": 6,
      "outputs": [
        {
          "output_type": "stream",
          "text": [
            "9\n"
          ],
          "name": "stdout"
        },
        {
          "output_type": "execute_result",
          "data": {
            "text/plain": [
              "<matplotlib.legend.Legend at 0x7f5906e3dbe0>"
            ]
          },
          "metadata": {
            "tags": []
          },
          "execution_count": 6
        },
        {
          "output_type": "display_data",
          "data": {
            "image/png": "[encoded data removed]",
            "text/plain": [
              "<Figure size 1440x720 with 1 Axes>"
            ]
          },
          "metadata": {
            "tags": []
          }
        }
      ]
    },
    {
      "cell_type": "markdown",
      "metadata": {
        "id": "p6_SlYTyvG3R",
        "colab_type": "text"
      },
      "source": [
        "Significant improvement can be seen using increasing kernels: This is because small kernels are taking care of smaller details while bigger kernels are looking at larger pictures of features."
      ]
    },
    {
      "cell_type": "code",
      "metadata": {
        "id": "Ff4cRUcKtZtN",
        "colab_type": "code",
        "colab": {
          "base_uri": "https://localhost:8080/",
          "height": 1000
        },
        "outputId": "0f4ce330-441e-4175-ca67-163e1108d9bd"
      },
      "source": [
        "# Best model\n",
        "model= conv_model_varying_kernel(7)\n",
        "model.compile(loss=keras.losses.categorical_crossentropy,\n",
        "              optimizer=keras.optimizers.Adam(),\n",
        "              metrics=['accuracy'])\n",
        "\n",
        "history= model.fit(x_train, y_train,\n",
        "          batch_size=64,\n",
        "          epochs=20,\n",
        "          verbose=1,\n",
        "          validation_data=(x_test, y_test))\n",
        "score = model.evaluate(x_test, y_test, verbose=0)\n",
        "print('Test loss:', score[0])\n",
        "print('Test accuracy:', score[1])\n",
        "\n",
        "x = list(range(1,21))\n",
        "vy = history.history['val_loss']\n",
        "ty = history.history['loss']\n",
        "plt_dynamic(x, vy, ty, 1)"
      ],
      "execution_count": 7,
      "outputs": [
        {
          "output_type": "stream",
          "text": [
            "Train on 60000 samples, validate on 10000 samples\n",
            "Epoch 1/20\n",
            "60000/60000 [==============================] - 21s 358us/step - loss: 0.1561 - acc: 0.9519 - val_loss: 0.0460 - val_acc: 0.9851\n",
            "Epoch 2/20\n",
            "60000/60000 [==============================] - 17s 278us/step - loss: 0.0560 - acc: 0.9830 - val_loss: 0.0308 - val_acc: 0.9906\n",
            "Epoch 3/20\n",
            "60000/60000 [==============================] - 16s 275us/step - loss: 0.0433 - acc: 0.9870 - val_loss: 0.0319 - val_acc: 0.9888\n",
            "Epoch 4/20\n",
            "60000/60000 [==============================] - 16s 271us/step - loss: 0.0351 - acc: 0.9895 - val_loss: 0.0257 - val_acc: 0.9915\n",
            "Epoch 5/20\n",
            "60000/60000 [==============================] - 16s 270us/step - loss: 0.0301 - acc: 0.9903 - val_loss: 0.0247 - val_acc: 0.9916\n",
            "Epoch 6/20\n",
            "60000/60000 [==============================] - 16s 269us/step - loss: 0.0267 - acc: 0.9915 - val_loss: 0.0242 - val_acc: 0.9925\n",
            "Epoch 7/20\n",
            "60000/60000 [==============================] - 16s 269us/step - loss: 0.0220 - acc: 0.9932 - val_loss: 0.0282 - val_acc: 0.9922\n",
            "Epoch 8/20\n",
            "60000/60000 [==============================] - 16s 269us/step - loss: 0.0201 - acc: 0.9938 - val_loss: 0.0206 - val_acc: 0.9930\n",
            "Epoch 9/20\n",
            "60000/60000 [==============================] - 16s 270us/step - loss: 0.0196 - acc: 0.9939 - val_loss: 0.0305 - val_acc: 0.9910\n",
            "Epoch 10/20\n",
            "60000/60000 [==============================] - 16s 271us/step - loss: 0.0162 - acc: 0.9950 - val_loss: 0.0207 - val_acc: 0.9942\n",
            "Epoch 11/20\n",
            "60000/60000 [==============================] - 16s 273us/step - loss: 0.0145 - acc: 0.9956 - val_loss: 0.0263 - val_acc: 0.9921\n",
            "Epoch 12/20\n",
            "60000/60000 [==============================] - 16s 270us/step - loss: 0.0122 - acc: 0.9963 - val_loss: 0.0309 - val_acc: 0.9919\n",
            "Epoch 13/20\n",
            "60000/60000 [==============================] - 16s 270us/step - loss: 0.0132 - acc: 0.9954 - val_loss: 0.0366 - val_acc: 0.9891\n",
            "Epoch 14/20\n",
            "60000/60000 [==============================] - 16s 268us/step - loss: 0.0100 - acc: 0.9969 - val_loss: 0.0230 - val_acc: 0.9940\n",
            "Epoch 15/20\n",
            "60000/60000 [==============================] - 16s 267us/step - loss: 0.0100 - acc: 0.9965 - val_loss: 0.0273 - val_acc: 0.9923\n",
            "Epoch 16/20\n",
            "60000/60000 [==============================] - 16s 266us/step - loss: 0.0091 - acc: 0.9970 - val_loss: 0.0212 - val_acc: 0.9937\n",
            "Epoch 17/20\n",
            "60000/60000 [==============================] - 16s 265us/step - loss: 0.0085 - acc: 0.9975 - val_loss: 0.0283 - val_acc: 0.9929\n",
            "Epoch 18/20\n",
            "60000/60000 [==============================] - 16s 266us/step - loss: 0.0090 - acc: 0.9973 - val_loss: 0.0288 - val_acc: 0.9927\n",
            "Epoch 19/20\n",
            "60000/60000 [==============================] - 16s 266us/step - loss: 0.0077 - acc: 0.9975 - val_loss: 0.0382 - val_acc: 0.9910\n",
            "Epoch 20/20\n",
            "60000/60000 [==============================] - 16s 267us/step - loss: 0.0067 - acc: 0.9978 - val_loss: 0.0258 - val_acc: 0.9934\n",
            "Test loss: 0.02577534741919535\n",
            "Test accuracy: 0.9934\n"
          ],
          "name": "stdout"
        },
        {
          "output_type": "display_data",
          "data": {
            "image/png": "[encoded data removed]",
            "text/plain": [
              "<Figure size 432x288 with 1 Axes>"
            ]
          },
          "metadata": {
            "tags": []
          }
        }
      ]
    },
    {
      "cell_type": "markdown",
      "metadata": {
        "colab_type": "text",
        "id": "qygq3neuviHX"
      },
      "source": [
        "## Model 4 : Hyperparameter tuning with 5 layers, batch normalization and varying kernels, applying cross validation and comparing results"
      ]
    },
    {
      "cell_type": "code",
      "metadata": {
        "colab_type": "code",
        "outputId": "c344bf3a-a48a-4451-efbb-444705ad0f80",
        "id": "kqJqenCaviHb",
        "colab": {
          "base_uri": "https://localhost:8080/",
          "height": 70
        }
      },
      "source": [
        "# Adding batch normalization to the model\n",
        "def conv_model_varying_kernel(kernel_n):\n",
        "  Model_4 = Sequential()\n",
        "  #Layer 1 [ReLU]\n",
        "  Model_4.add(Conv2D(32, kernel_size=(kernel_n, kernel_n),\n",
        "                  activation='relu',\n",
        "                  input_shape=input_shape, padding='same'))\n",
        "  Model_4.add(BatchNormalization())\n",
        "\n",
        "  #Layer 2 [ReLU]\n",
        "  Model_4.add(Conv2D(64, (kernel_n+2, kernel_n+2), activation='relu', padding='same'))\n",
        "  Model_4.add(BatchNormalization())\n",
        "  Model_4.add(MaxPooling2D(pool_size=(2, 2)))\n",
        "  Model_4.add(Dropout(0.25))\n",
        "\n",
        "  #Layer 3 [ReLU]\n",
        "  Model_4.add(Conv2D(128, (kernel_n+4, kernel_n+4), activation='relu', padding='same'))\n",
        "  Model_4.add(BatchNormalization())\n",
        "  Model_4.add(MaxPooling2D(pool_size=(2, 2)))\n",
        "  Model_4.add(Dropout(0.25))\n",
        "\n",
        "  #Layer 4 [ReLU]\n",
        "  Model_4.add(Flatten())\n",
        "  Model_4.add(Dense(256, activation='relu'))\n",
        "  Model_4.add(BatchNormalization())\n",
        "  Model_4.add(Dropout(0.5))\n",
        "\n",
        "  #Layer 5 [Softmax]\n",
        "  Model_4.add(Dense(num_classes, activation='softmax'))\n",
        "\n",
        "  Model_4.compile(loss=keras.losses.categorical_crossentropy,\n",
        "                optimizer=keras.optimizers.Adadelta(),\n",
        "                metrics=['accuracy'])\n",
        "  return Model_4\n",
        "\n",
        "\n",
        "from keras.wrappers.scikit_learn import KerasClassifier\n",
        "from sklearn.model_selection import GridSearchCV, ShuffleSplit\n",
        "\n",
        "model = KerasClassifier(build_fn=conv_model_varying_kernel, epochs=20, verbose=0)\n",
        "\n",
        "batch = [32, 64, 128]\n",
        "param_grid = dict(batch_size=batch,\\\n",
        "                  kernel_n= [3, 5, 7]\n",
        "                  )\n",
        "\n",
        "grid = GridSearchCV(estimator= model, param_grid= param_grid, cv= 2, return_train_score= True, verbose= 1)\n",
        "grid_result_varyingkernel= grid.fit(x_train, y_train)"
      ],
      "execution_count": 8,
      "outputs": [
        {
          "output_type": "stream",
          "text": [
            "Fitting 2 folds for each of 9 candidates, totalling 18 fits\n"
          ],
          "name": "stdout"
        },
        {
          "output_type": "stream",
          "text": [
            "[Parallel(n_jobs=1)]: Using backend SequentialBackend with 1 concurrent workers.\n",
            "[Parallel(n_jobs=1)]: Done  18 out of  18 | elapsed: 115.7min finished\n"
          ],
          "name": "stderr"
        }
      ]
    },
    {
      "cell_type": "code",
      "metadata": {
        "id": "zAyC5fClaP8i",
        "colab_type": "code",
        "colab": {
          "base_uri": "https://localhost:8080/",
          "height": 35
        },
        "outputId": "a5bf429f-8185-4895-a149-6dc8357840c3"
      },
      "source": [
        "print(input_shape)"
      ],
      "execution_count": 9,
      "outputs": [
        {
          "output_type": "stream",
          "text": [
            "(28, 28, 1)\n"
          ],
          "name": "stdout"
        }
      ]
    },
    {
      "cell_type": "code",
      "metadata": {
        "colab_type": "code",
        "id": "r7536iKaviHs",
        "colab": {
          "base_uri": "https://localhost:8080/",
          "height": 212
        },
        "outputId": "abf22b5d-81d8-4b1f-ca4e-4f2a770aec24"
      },
      "source": [
        "print(\"Best: %f using %s\" % (grid_result_varyingkernel.best_score_, grid_result_varyingkernel.best_params_))\n",
        "print(\"Best estimator: \", grid_result_varyingkernel.best_estimator_)\n",
        "\n",
        "means_test = grid_result_varyingkernel.cv_results_['mean_test_score']\n",
        "means_train = grid_result_varyingkernel.cv_results_['mean_train_score']\n",
        "stds_test = grid_result_varyingkernel.cv_results_['std_test_score']\n",
        "stds_train = grid_result_varyingkernel.cv_results_['std_train_score']\n",
        "params = grid_result_varyingkernel.cv_results_['params']\n",
        "\n",
        "for mean, mean_train, stdev, param in zip(means_test, means_train, stds_test, params):\n",
        "    print(\"%f %f (%f) with: %r\" % (mean, mean_train, stdev, param))"
      ],
      "execution_count": 10,
      "outputs": [
        {
          "output_type": "stream",
          "text": [
            "Best: 0.993567 using {'batch_size': 32, 'kernel_n': 7}\n",
            "Best estimator:  <keras.wrappers.scikit_learn.KerasClassifier object at 0x7f5906d55b00>\n",
            "0.992533 0.999900 (0.000067) with: {'batch_size': 32, 'kernel_n': 3}\n",
            "0.993417 0.999967 (0.000317) with: {'batch_size': 32, 'kernel_n': 5}\n",
            "0.993567 0.999983 (0.000100) with: {'batch_size': 32, 'kernel_n': 7}\n",
            "0.992317 0.999967 (0.000217) with: {'batch_size': 64, 'kernel_n': 3}\n",
            "0.992967 0.999833 (0.000667) with: {'batch_size': 64, 'kernel_n': 5}\n",
            "0.992950 0.999967 (0.000483) with: {'batch_size': 64, 'kernel_n': 7}\n",
            "0.992150 0.999967 (0.000283) with: {'batch_size': 128, 'kernel_n': 3}\n",
            "0.992683 0.999900 (0.000617) with: {'batch_size': 128, 'kernel_n': 5}\n",
            "0.992783 0.999950 (0.000083) with: {'batch_size': 128, 'kernel_n': 7}\n"
          ],
          "name": "stdout"
        }
      ]
    },
    {
      "cell_type": "code",
      "metadata": {
        "colab_type": "code",
        "id": "G3Ffv2NsviH0",
        "colab": {
          "base_uri": "https://localhost:8080/",
          "height": 35
        },
        "outputId": "71aee74a-56c3-4c47-9180-e250ba484edd"
      },
      "source": [
        "import pickle\n",
        "with open('grid_result__5layer_varyingkernel.pickle', 'wb') as handle:\n",
        "    pickle.dump(grid_result_varyingkernel.cv_results_, handle, protocol=pickle.HIGHEST_PROTOCOL)\n",
        "!cp grid_result__5layer_varyingkernel.pickle drive/My\\ Drive/CNN_models/"
      ],
      "execution_count": 11,
      "outputs": [
        {
          "output_type": "stream",
          "text": [
            "cp: cannot create regular file 'drive/My Drive/CNN_models/': No such file or directory\n"
          ],
          "name": "stdout"
        }
      ]
    },
    {
      "cell_type": "code",
      "metadata": {
        "colab_type": "code",
        "id": "m_iovJpCviH4",
        "colab": {
          "base_uri": "https://localhost:8080/",
          "height": 632
        },
        "outputId": "4108749b-936f-41c5-c89e-8246954ed237"
      },
      "source": [
        "import matplotlib.pyplot as plt\n",
        "import numpy as np\n",
        "fig, ax = plt.subplots(figsize=(20,10))\n",
        "\n",
        "ind= np.arange(len(params))\n",
        "width= 0.35\n",
        "print(len(params))\n",
        "\n",
        "rects1 = ax.bar(ind - width/2, means_test, width, \n",
        "                label='Mean Test Score')\n",
        "rects2 = ax.bar(ind + width/2, means_train, width, \n",
        "                label='Mean Train Score')\n",
        "\n",
        "ax.set_xticks(ind)\n",
        "ax.set_xticklabels([param['kernel_n'] for param in params], rotation=45)\n",
        "batches= [param['batch_size'] for param in params]\n",
        "\n",
        "i= 0\n",
        "for rect in rects1:\n",
        "    ax.annotate('Acc:{:.3f}'.format(means_test[i]*100), rotation=90,\n",
        "                xy=(rect.get_x() + rect.get_width() / 2, 0.99),\n",
        "                xytext=(0, 3),  # use 3 points offset\n",
        "                textcoords=\"offset points\",  # in both directions\n",
        "                ha='center', va='bottom',\n",
        "                horizontalalignment='center', verticalalignment='center_baseline')\n",
        "    i+=1\n",
        "i=0\n",
        "for rect in rects2:\n",
        "    ax.annotate('Acc:{:.3f}'.format(means_train[i]*100), rotation=90,\n",
        "                xy=(rect.get_x() + rect.get_width() / 2, 0.99),\n",
        "                xytext=(0, 3),  # use 3 points offset\n",
        "                textcoords=\"offset points\",  # in both directions\n",
        "                ha='center', va='bottom')\n",
        "    i+=1\n",
        "ax.set_ylim(bottom=0.99)\n",
        "ax.legend(loc= 'upper left')"
      ],
      "execution_count": 12,
      "outputs": [
        {
          "output_type": "stream",
          "text": [
            "9\n"
          ],
          "name": "stdout"
        },
        {
          "output_type": "execute_result",
          "data": {
            "text/plain": [
              "<matplotlib.legend.Legend at 0x7f5909bc0e10>"
            ]
          },
          "metadata": {
            "tags": []
          },
          "execution_count": 12
        },
        {
          "output_type": "display_data",
          "data": {
            "image/png": "[encoded data removed]",
            "text/plain": [
              "<Figure size 1440x720 with 1 Axes>"
            ]
          },
          "metadata": {
            "tags": []
          }
        }
      ]
    },
    {
      "cell_type": "markdown",
      "metadata": {
        "id": "xEQOSbWavjjR",
        "colab_type": "text"
      },
      "source": [
        "\n",
        "I can see all my models above 99% mark also best accuracy is 99.347 which is also better than before\n"
      ]
    },
    {
      "cell_type": "code",
      "metadata": {
        "id": "87y8mYK_s7lj",
        "colab_type": "code",
        "colab": {
          "base_uri": "https://localhost:8080/",
          "height": 1000
        },
        "outputId": "375c0701-b927-4108-824e-458945ab4275"
      },
      "source": [
        "# Best model\n",
        "model= conv_model_varying_kernel(5)\n",
        "model.compile(loss=keras.losses.categorical_crossentropy,\n",
        "              optimizer=keras.optimizers.Adam(),\n",
        "              metrics=['accuracy'])\n",
        "\n",
        "history= model.fit(x_train, y_train,\n",
        "          batch_size=32,\n",
        "          epochs=20,\n",
        "          verbose=1,\n",
        "          validation_data=(x_test, y_test))\n",
        "score = model.evaluate(x_test, y_test, verbose=0)\n",
        "print('Test loss:', score[0])\n",
        "print('Test accuracy:', score[1])\n",
        "\n",
        "x = list(range(1,21))\n",
        "vy = history.history['val_loss']\n",
        "ty = history.history['loss']\n",
        "plt_dynamic(x, vy, ty, 1)"
      ],
      "execution_count": 13,
      "outputs": [
        {
          "output_type": "stream",
          "text": [
            "Train on 60000 samples, validate on 10000 samples\n",
            "Epoch 1/20\n",
            "60000/60000 [==============================] - 71s 1ms/step - loss: 0.1233 - acc: 0.9626 - val_loss: 0.0346 - val_acc: 0.9878\n",
            "Epoch 2/20\n",
            "60000/60000 [==============================] - 60s 1ms/step - loss: 0.0575 - acc: 0.9820 - val_loss: 0.0194 - val_acc: 0.9941\n",
            "Epoch 3/20\n",
            "60000/60000 [==============================] - 60s 996us/step - loss: 0.0453 - acc: 0.9864 - val_loss: 0.0273 - val_acc: 0.9911\n",
            "Epoch 4/20\n",
            "60000/60000 [==============================] - 60s 996us/step - loss: 0.0376 - acc: 0.9889 - val_loss: 0.0232 - val_acc: 0.9922\n",
            "Epoch 5/20\n",
            "60000/60000 [==============================] - 60s 1ms/step - loss: 0.0319 - acc: 0.9903 - val_loss: 0.0228 - val_acc: 0.9927\n",
            "Epoch 6/20\n",
            "60000/60000 [==============================] - 60s 995us/step - loss: 0.0261 - acc: 0.9915 - val_loss: 0.0168 - val_acc: 0.9951\n",
            "Epoch 7/20\n",
            "60000/60000 [==============================] - 60s 1ms/step - loss: 0.0235 - acc: 0.9930 - val_loss: 0.0211 - val_acc: 0.9938\n",
            "Epoch 8/20\n",
            "60000/60000 [==============================] - 60s 1ms/step - loss: 0.0216 - acc: 0.9933 - val_loss: 0.0230 - val_acc: 0.9947\n",
            "Epoch 9/20\n",
            "60000/60000 [==============================] - 60s 1ms/step - loss: 0.0158 - acc: 0.9954 - val_loss: 0.0330 - val_acc: 0.9905\n",
            "Epoch 10/20\n",
            "60000/60000 [==============================] - 60s 1ms/step - loss: 0.0166 - acc: 0.9949 - val_loss: 0.0204 - val_acc: 0.9936\n",
            "Epoch 11/20\n",
            "60000/60000 [==============================] - 60s 1ms/step - loss: 0.0143 - acc: 0.9956 - val_loss: 0.0198 - val_acc: 0.9939\n",
            "Epoch 12/20\n",
            "60000/60000 [==============================] - 60s 1ms/step - loss: 0.0129 - acc: 0.9960 - val_loss: 0.0184 - val_acc: 0.9949\n",
            "Epoch 13/20\n",
            "60000/60000 [==============================] - 61s 1ms/step - loss: 0.0113 - acc: 0.9963 - val_loss: 0.0189 - val_acc: 0.9946\n",
            "Epoch 14/20\n",
            "60000/60000 [==============================] - 60s 1ms/step - loss: 0.0118 - acc: 0.9963 - val_loss: 0.0173 - val_acc: 0.9947\n",
            "Epoch 15/20\n",
            "60000/60000 [==============================] - 62s 1ms/step - loss: 0.0072 - acc: 0.9978 - val_loss: 0.0288 - val_acc: 0.9931\n",
            "Epoch 16/20\n",
            "60000/60000 [==============================] - 62s 1ms/step - loss: 0.0107 - acc: 0.9968 - val_loss: 0.0280 - val_acc: 0.9937\n",
            "Epoch 17/20\n",
            "60000/60000 [==============================] - 61s 1ms/step - loss: 0.0084 - acc: 0.9973 - val_loss: 0.0198 - val_acc: 0.9949\n",
            "Epoch 18/20\n",
            "60000/60000 [==============================] - 61s 1ms/step - loss: 0.0083 - acc: 0.9973 - val_loss: 0.0264 - val_acc: 0.9947\n",
            "Epoch 19/20\n",
            "60000/60000 [==============================] - 60s 1ms/step - loss: 0.0075 - acc: 0.9977 - val_loss: 0.0244 - val_acc: 0.9949\n",
            "Epoch 20/20\n",
            "60000/60000 [==============================] - 61s 1ms/step - loss: 0.0067 - acc: 0.9980 - val_loss: 0.0276 - val_acc: 0.9935\n",
            "Test loss: 0.027582897385407024\n",
            "Test accuracy: 0.9935\n"
          ],
          "name": "stdout"
        },
        {
          "output_type": "display_data",
          "data": {
            "image/png": "[encoded data removed]",
            "text/plain": [
              "<Figure size 432x288 with 1 Axes>"
            ]
          },
          "metadata": {
            "tags": []
          }
        }
      ]
    },
    {
      "cell_type": "markdown",
      "metadata": {
        "colab_type": "text",
        "id": "IcNxP7u1vkQ6"
      },
      "source": [
        "## Model 5 : Hyperparameter tuning with varying kernels with same number of filters and then increasing filter size, applying cross validation and comparing results"
      ]
    },
    {
      "cell_type": "code",
      "metadata": {
        "colab_type": "code",
        "outputId": "4c1b70ad-6e38-4261-d3df-3201c79edba4",
        "id": "EUmZuj0EvkQ7",
        "colab": {
          "base_uri": "https://localhost:8080/",
          "height": 497
        }
      },
      "source": [
        "# Adding batch normalization to the model\n",
        "def conv_model_varying_kernel_with_same_filter(kernel_n):\n",
        "  Model_5 = Sequential()\n",
        "\n",
        "  #Layer 1 [ReLU]\n",
        "  Model_5.add(Conv2D(32, kernel_size=(kernel_n, kernel_n),\n",
        "                  activation='relu',\n",
        "                  input_shape=input_shape, padding='same'))\n",
        "  Model_5.add(BatchNormalization())\n",
        "  #Model_5.add(MaxPooling2D(pool_size=(2, 2), padding= 'same'))\n",
        "  Model_5.add(Dropout(0.25))\n",
        "\n",
        "  #Layer 2 [ReLU]\n",
        "  Model_5.add(Conv2D(32, kernel_size=(kernel_n+2, kernel_n+2),\n",
        "                  activation='relu',\n",
        "                  padding='same'))\n",
        "  Model_5.add(BatchNormalization())\n",
        "  #Model_5.add(MaxPooling2D(pool_size=(2, 2), padding= 'same'))\n",
        "  Model_5.add(Dropout(0.25))\n",
        "\n",
        "  #Layer 3 [ReLU]\n",
        "  Model_5.add(Conv2D(32, kernel_size=(kernel_n+4, kernel_n+4),\n",
        "                  activation='relu',\n",
        "                  padding='same'))\n",
        "  Model_5.add(BatchNormalization())\n",
        "  Model_5.add(MaxPooling2D(pool_size=(2, 2), padding= 'same'))\n",
        "  Model_5.add(Dropout(0.25))\n",
        "\n",
        "\n",
        "  #Layer 4 [ReLU]\n",
        "  Model_5.add(Conv2D(64, kernel_size=(kernel_n, kernel_n),\n",
        "                  activation='relu',\n",
        "                  padding='same'))\n",
        "  Model_5.add(BatchNormalization())\n",
        "  #Model_5.add(MaxPooling2D(pool_size=(2, 2), padding= 'same'))\n",
        "  Model_5.add(Dropout(0.25))\n",
        "\n",
        "  #Layer 5 [ReLU]\n",
        "  Model_5.add(Conv2D(64, kernel_size=(kernel_n+2, kernel_n+2),\n",
        "                  activation='relu',\n",
        "                  padding='same'))\n",
        "  Model_5.add(BatchNormalization())\n",
        "  #Model_5.add(MaxPooling2D(pool_size=(2, 2), padding= 'same'))\n",
        "  Model_5.add(Dropout(0.25))\n",
        "\n",
        "  #Layer 6 [ReLU]\n",
        "  Model_5.add(Conv2D(64, kernel_size=(kernel_n+4, kernel_n+4),\n",
        "                  activation='relu',\n",
        "                  padding='same'))\n",
        "  Model_5.add(BatchNormalization())\n",
        "  Model_5.add(MaxPooling2D(pool_size=(2, 2), padding= 'same'))\n",
        "  Model_5.add(Dropout(0.25))\n",
        "\n",
        "\n",
        "  #Layer 7 [ReLU]\n",
        "  Model_5.add(Conv2D(128, kernel_size=(kernel_n, kernel_n),\n",
        "                  activation='relu',\n",
        "                  padding='same'))\n",
        "  Model_5.add(BatchNormalization())\n",
        "  Model_5.add(Dropout(0.25))\n",
        "\n",
        "  #Layer 8 [ReLU]\n",
        "  Model_5.add(Conv2D(128, kernel_size=(kernel_n+2, kernel_n+2),\n",
        "                  activation='relu',\n",
        "                  padding='same'))\n",
        "  Model_5.add(BatchNormalization())\n",
        "  Model_5.add(Dropout(0.25))\n",
        "\n",
        "  #Layer 9 [ReLU]\n",
        "  Model_5.add(Conv2D(128, kernel_size=(kernel_n+4, kernel_n+4),\n",
        "                  activation='relu',\n",
        "                  padding='same'))\n",
        "  Model_5.add(BatchNormalization())\n",
        "  Model_5.add(MaxPooling2D(pool_size=(2, 2), padding= 'same'))\n",
        "  Model_5.add(Dropout(0.25))\n",
        "\n",
        "  #Layer 10 [ReLU]\n",
        "  Model_5.add(Conv2D(256, kernel_size=(kernel_n, kernel_n),\n",
        "                  activation='relu',\n",
        "                  padding='same'))\n",
        "  Model_5.add(BatchNormalization())\n",
        "  Model_5.add(MaxPooling2D(pool_size=(2, 2), padding= 'same'))\n",
        "  Model_5.add(Dropout(0.25))\n",
        "\n",
        "  #Layer 11 [ReLU]\n",
        "  Model_5.add(Conv2D(256, kernel_size=(kernel_n+2, kernel_n+2),\n",
        "                  activation='relu',\n",
        "                  padding='same'))\n",
        "  Model_5.add(BatchNormalization())\n",
        "  Model_5.add(Dropout(0.25))\n",
        "\n",
        "  #Layer 12 [ReLU]\n",
        "  Model_5.add(Conv2D(256, kernel_size=(kernel_n+4, kernel_n+4),\n",
        "                  activation='relu',\n",
        "                  padding='same'))\n",
        "  Model_5.add(BatchNormalization())\n",
        "  Model_5.add(MaxPooling2D(pool_size=(2, 2), padding= 'same'))\n",
        "  Model_5.add(Dropout(0.25))\n",
        "  \n",
        "  Model_5.add(Flatten())\n",
        "\n",
        "  #Layer 13 [Softmax]\n",
        "  Model_5.add(Dense(10, activation='softmax'))\n",
        "\n",
        "  Model_5.compile(loss=keras.losses.categorical_crossentropy,\n",
        "                optimizer=keras.optimizers.Adadelta(),\n",
        "                metrics=['accuracy'])\n",
        "  \n",
        "  return Model_5\n",
        "\n",
        "\n",
        "from keras.wrappers.scikit_learn import KerasClassifier\n",
        "from sklearn.model_selection import GridSearchCV, ShuffleSplit\n",
        "\n",
        "model = KerasClassifier(build_fn=conv_model_varying_kernel_with_same_filter, epochs=20, verbose=0)\n",
        "\n",
        "batch = [32, 64]\n",
        "param_grid = dict(batch_size=batch,\\\n",
        "                  kernel_n= [3, 5]\n",
        "                  )\n",
        "\n",
        "grid = GridSearchCV(estimator= model, param_grid= param_grid, cv= 2, return_train_score= True, verbose= 10)\n",
        "grid_result_varyingKernelFixedFilters= grid.fit(x_train, y_train)\n"
      ],
      "execution_count": 5,
      "outputs": [
        {
          "output_type": "stream",
          "text": [
            "Fitting 2 folds for each of 4 candidates, totalling 8 fits\n",
            "[CV] batch_size=32, kernel_n=3 .......................................\n"
          ],
          "name": "stdout"
        },
        {
          "output_type": "stream",
          "text": [
            "[Parallel(n_jobs=1)]: Using backend SequentialBackend with 1 concurrent workers.\n"
          ],
          "name": "stderr"
        },
        {
          "output_type": "stream",
          "text": [
            "[CV]  batch_size=32, kernel_n=3, score=(train=0.999, test=0.993), total=23.9min\n",
            "[CV] batch_size=32, kernel_n=3 .......................................\n"
          ],
          "name": "stdout"
        },
        {
          "output_type": "stream",
          "text": [
            "[Parallel(n_jobs=1)]: Done   1 out of   1 | elapsed: 24.2min remaining:    0.0s\n"
          ],
          "name": "stderr"
        },
        {
          "output_type": "stream",
          "text": [
            "[CV]  batch_size=32, kernel_n=3, score=(train=0.999, test=0.993), total=24.4min\n",
            "[CV] batch_size=32, kernel_n=5 .......................................\n"
          ],
          "name": "stdout"
        },
        {
          "output_type": "stream",
          "text": [
            "[Parallel(n_jobs=1)]: Done   2 out of   2 | elapsed: 48.8min remaining:    0.0s\n"
          ],
          "name": "stderr"
        },
        {
          "output_type": "stream",
          "text": [
            "[CV]  batch_size=32, kernel_n=5, score=(train=0.999, test=0.993), total=28.8min\n",
            "[CV] batch_size=32, kernel_n=5 .......................................\n"
          ],
          "name": "stdout"
        },
        {
          "output_type": "stream",
          "text": [
            "[Parallel(n_jobs=1)]: Done   3 out of   3 | elapsed: 78.0min remaining:    0.0s\n"
          ],
          "name": "stderr"
        },
        {
          "output_type": "stream",
          "text": [
            "[CV]  batch_size=32, kernel_n=5, score=(train=0.999, test=0.993), total=29.0min\n",
            "[CV] batch_size=64, kernel_n=3 .......................................\n"
          ],
          "name": "stdout"
        },
        {
          "output_type": "stream",
          "text": [
            "[Parallel(n_jobs=1)]: Done   4 out of   4 | elapsed: 107.3min remaining:    0.0s\n"
          ],
          "name": "stderr"
        },
        {
          "output_type": "stream",
          "text": [
            "[CV]  batch_size=64, kernel_n=3, score=(train=0.999, test=0.993), total=16.2min\n",
            "[CV] batch_size=64, kernel_n=3 .......................................\n"
          ],
          "name": "stdout"
        },
        {
          "output_type": "stream",
          "text": [
            "[Parallel(n_jobs=1)]: Done   5 out of   5 | elapsed: 123.7min remaining:    0.0s\n"
          ],
          "name": "stderr"
        },
        {
          "output_type": "stream",
          "text": [
            "[CV]  batch_size=64, kernel_n=3, score=(train=0.999, test=0.993), total=16.2min\n",
            "[CV] batch_size=64, kernel_n=5 .......................................\n"
          ],
          "name": "stdout"
        },
        {
          "output_type": "stream",
          "text": [
            "[Parallel(n_jobs=1)]: Done   6 out of   6 | elapsed: 140.1min remaining:    0.0s\n"
          ],
          "name": "stderr"
        },
        {
          "output_type": "stream",
          "text": [
            "[CV]  batch_size=64, kernel_n=5, score=(train=0.998, test=0.991), total=19.4min\n",
            "[CV] batch_size=64, kernel_n=5 .......................................\n"
          ],
          "name": "stdout"
        },
        {
          "output_type": "stream",
          "text": [
            "[Parallel(n_jobs=1)]: Done   7 out of   7 | elapsed: 159.8min remaining:    0.0s\n"
          ],
          "name": "stderr"
        },
        {
          "output_type": "stream",
          "text": [
            "[CV]  batch_size=64, kernel_n=5, score=(train=0.999, test=0.992), total=19.5min\n"
          ],
          "name": "stdout"
        },
        {
          "output_type": "stream",
          "text": [
            "[Parallel(n_jobs=1)]: Done   8 out of   8 | elapsed: 179.5min remaining:    0.0s\n",
            "[Parallel(n_jobs=1)]: Done   8 out of   8 | elapsed: 179.5min finished\n"
          ],
          "name": "stderr"
        }
      ]
    },
    {
      "cell_type": "code",
      "metadata": {
        "colab_type": "code",
        "outputId": "d44208a4-149a-4d61-8c33-60a28bca1b3b",
        "id": "NScYym8pvkQ9",
        "colab": {
          "base_uri": "https://localhost:8080/",
          "height": 124
        }
      },
      "source": [
        "print(\"Best: %f using %s\" % (grid_result_varyingKernelFixedFilters.best_score_, grid_result_varyingKernelFixedFilters.best_params_))\n",
        "print(\"Best estimator: \", grid_result_varyingKernelFixedFilters.best_estimator_)\n",
        "\n",
        "means_test = grid_result_varyingKernelFixedFilters.cv_results_['mean_test_score']\n",
        "means_train = grid_result_varyingKernelFixedFilters.cv_results_['mean_train_score']\n",
        "stds_test = grid_result_varyingKernelFixedFilters.cv_results_['std_test_score']\n",
        "stds_train = grid_result_varyingKernelFixedFilters.cv_results_['std_train_score']\n",
        "params = grid_result_varyingKernelFixedFilters.cv_results_['params']\n",
        "\n",
        "for mean, mean_train, stdev, param in zip(means_test, means_train, stds_test, params):\n",
        "    print(\"%f %f (%f) with: %r\" % (mean, mean_train, stdev, param))"
      ],
      "execution_count": 6,
      "outputs": [
        {
          "output_type": "stream",
          "text": [
            "Best: 0.993317 using {'batch_size': 32, 'kernel_n': 3}\n",
            "Best estimator:  <keras.wrappers.scikit_learn.KerasClassifier object at 0x7f5aa98f12e8>\n",
            "0.993317 0.999083 (0.000017) with: {'batch_size': 32, 'kernel_n': 3}\n",
            "0.992967 0.999100 (0.000200) with: {'batch_size': 32, 'kernel_n': 5}\n",
            "0.992667 0.998983 (0.000167) with: {'batch_size': 64, 'kernel_n': 3}\n",
            "0.991917 0.998467 (0.000483) with: {'batch_size': 64, 'kernel_n': 5}\n"
          ],
          "name": "stdout"
        }
      ]
    },
    {
      "cell_type": "code",
      "metadata": {
        "colab_type": "code",
        "id": "e6Xn5EBjvkRA",
        "colab": {}
      },
      "source": [
        "import pickle\n",
        "with open('grid_result_varyingKernelFixedFilters.pickle', 'wb') as handle:\n",
        "    pickle.dump(grid_result_varyingKernelFixedFilters.cv_results_, handle, protocol=pickle.HIGHEST_PROTOCOL)\n",
        "!cp grid_result_varyingKernelFixedFilters.pickle drive/My\\ Drive/CNN_models/"
      ],
      "execution_count": 0,
      "outputs": []
    },
    {
      "cell_type": "code",
      "metadata": {
        "colab_type": "code",
        "outputId": "76255b3c-77f9-4371-a082-d7838cc49713",
        "id": "QrYOf2A5vkRC",
        "colab": {
          "base_uri": "https://localhost:8080/",
          "height": 361
        }
      },
      "source": [
        "import matplotlib.pyplot as plt\n",
        "\n",
        "fig, ax = plt.subplots(figsize=(20,5))\n",
        "\n",
        "ind= np.arange(len(params))\n",
        "width= 0.35\n",
        "print(len(params))\n",
        "\n",
        "rects1 = ax.bar(ind - width/2, means_test, width, \n",
        "                label='Mean Test Score')\n",
        "rects2 = ax.bar(ind + width/2, means_train, width, \n",
        "                label='Mean Train Score')\n",
        "\n",
        "ax.set_xticks(ind)\n",
        "ax.set_xticklabels([param['kernel_n'] for param in params], rotation=45)\n",
        "batches= [param['batch_size'] for param in params]\n",
        "\n",
        "i= 0\n",
        "for rect in rects1:\n",
        "    ax.annotate('Acc:{:.3f}'.format(means_test[i]*100), rotation=90,\n",
        "                xy=(rect.get_x() + rect.get_width() / 2, 0.99),\n",
        "                xytext=(0, 3),  # use 3 points offset\n",
        "                textcoords=\"offset points\",  # in both directions\n",
        "                ha='center', va='bottom',\n",
        "                horizontalalignment='center', verticalalignment='center_baseline')\n",
        "    i+=1\n",
        "i=0\n",
        "for rect in rects2:\n",
        "    ax.annotate('Acc:{:.3f}'.format(means_train[i]*100), rotation=90,\n",
        "                xy=(rect.get_x() + rect.get_width() / 2, 0.99),\n",
        "                xytext=(0, 3),  # use 3 points offset\n",
        "                textcoords=\"offset points\",  # in both directions\n",
        "                ha='center', va='bottom')\n",
        "    i+=1\n",
        "ax.set_ylim(bottom=0.99)\n",
        "ax.legend(loc= 'upper left')"
      ],
      "execution_count": 14,
      "outputs": [
        {
          "output_type": "stream",
          "text": [
            "4\n"
          ],
          "name": "stdout"
        },
        {
          "output_type": "execute_result",
          "data": {
            "text/plain": [
              "<matplotlib.legend.Legend at 0x7f5a8c49b6a0>"
            ]
          },
          "metadata": {
            "tags": []
          },
          "execution_count": 14
        },
        {
          "output_type": "display_data",
          "data": {
            "image/png": "[encoded data removed]",
            "text/plain": [
              "<Figure size 1440x360 with 1 Axes>"
            ]
          },
          "metadata": {
            "tags": []
          }
        }
      ]
    },
    {
      "cell_type": "code",
      "metadata": {
        "id": "I5Pa4viFvHnG",
        "colab_type": "code",
        "colab": {
          "base_uri": "https://localhost:8080/",
          "height": 1000
        },
        "outputId": "a2d34e90-857a-4f95-a7ff-d69baf73c908"
      },
      "source": [
        "# best model\n",
        "\n",
        "model= conv_model_varying_kernel_with_same_filter(3)\n",
        "model.compile(loss=keras.losses.categorical_crossentropy,\n",
        "              optimizer=keras.optimizers.Adam(),\n",
        "              metrics=['accuracy'])\n",
        "\n",
        "history= model.fit(x_train, y_train,\n",
        "          batch_size=32,\n",
        "          epochs=20,\n",
        "          verbose=1,\n",
        "          validation_data=(x_test, y_test))\n",
        "score = model.evaluate(x_test, y_test, verbose=0)\n",
        "print('Test loss:', score[0])\n",
        "print('Test accuracy:', score[1])\n",
        "\n",
        "x = list(range(1,21))\n",
        "vy = history.history['val_loss']\n",
        "ty = history.history['loss']\n",
        "plt_dynamic(x, vy, ty, 1)"
      ],
      "execution_count": 22,
      "outputs": [
        {
          "output_type": "stream",
          "text": [
            "Train on 60000 samples, validate on 10000 samples\n",
            "Epoch 1/20\n",
            "60000/60000 [==============================] - 160s 3ms/step - loss: 0.2779 - acc: 0.9179 - val_loss: 0.0789 - val_acc: 0.9791\n",
            "Epoch 2/20\n",
            "60000/60000 [==============================] - 147s 2ms/step - loss: 0.0858 - acc: 0.9768 - val_loss: 0.0489 - val_acc: 0.9862\n",
            "Epoch 3/20\n",
            "60000/60000 [==============================] - 147s 2ms/step - loss: 0.0682 - acc: 0.9808 - val_loss: 0.0345 - val_acc: 0.9903\n",
            "Epoch 4/20\n",
            "60000/60000 [==============================] - 147s 2ms/step - loss: 0.0594 - acc: 0.9838 - val_loss: 0.0303 - val_acc: 0.9913\n",
            "Epoch 5/20\n",
            "60000/60000 [==============================] - 147s 2ms/step - loss: 0.0495 - acc: 0.9859 - val_loss: 0.0374 - val_acc: 0.9903\n",
            "Epoch 6/20\n",
            "60000/60000 [==============================] - 147s 2ms/step - loss: 0.0425 - acc: 0.9879 - val_loss: 0.0314 - val_acc: 0.9916\n",
            "Epoch 7/20\n",
            "60000/60000 [==============================] - 147s 2ms/step - loss: 0.0389 - acc: 0.9889 - val_loss: 0.0425 - val_acc: 0.9894\n",
            "Epoch 8/20\n",
            "60000/60000 [==============================] - 147s 2ms/step - loss: 0.0343 - acc: 0.9903 - val_loss: 0.0339 - val_acc: 0.9911\n",
            "Epoch 9/20\n",
            "60000/60000 [==============================] - 147s 2ms/step - loss: 0.0293 - acc: 0.9918 - val_loss: 0.0283 - val_acc: 0.9923\n",
            "Epoch 10/20\n",
            "60000/60000 [==============================] - 147s 2ms/step - loss: 0.0282 - acc: 0.9927 - val_loss: 0.0183 - val_acc: 0.9948\n",
            "Epoch 11/20\n",
            "60000/60000 [==============================] - 146s 2ms/step - loss: 0.0254 - acc: 0.9928 - val_loss: 0.0176 - val_acc: 0.9945\n",
            "Epoch 12/20\n",
            "60000/60000 [==============================] - 146s 2ms/step - loss: 0.0232 - acc: 0.9935 - val_loss: 0.0238 - val_acc: 0.9931\n",
            "Epoch 13/20\n",
            "60000/60000 [==============================] - 146s 2ms/step - loss: 0.0200 - acc: 0.9941 - val_loss: 0.0250 - val_acc: 0.9936\n",
            "Epoch 14/20\n",
            "60000/60000 [==============================] - 146s 2ms/step - loss: 0.0186 - acc: 0.9947 - val_loss: 0.0196 - val_acc: 0.9941\n",
            "Epoch 15/20\n",
            "60000/60000 [==============================] - 146s 2ms/step - loss: 0.0184 - acc: 0.9949 - val_loss: 0.0204 - val_acc: 0.9955\n",
            "Epoch 16/20\n",
            "60000/60000 [==============================] - 146s 2ms/step - loss: 0.0169 - acc: 0.9950 - val_loss: 0.0213 - val_acc: 0.9951\n",
            "Epoch 17/20\n",
            "60000/60000 [==============================] - 146s 2ms/step - loss: 0.0155 - acc: 0.9957 - val_loss: 0.0183 - val_acc: 0.9955\n",
            "Epoch 18/20\n",
            "60000/60000 [==============================] - 146s 2ms/step - loss: 0.0144 - acc: 0.9958 - val_loss: 0.0195 - val_acc: 0.9950\n",
            "Epoch 19/20\n",
            "60000/60000 [==============================] - 146s 2ms/step - loss: 0.0131 - acc: 0.9960 - val_loss: 0.0241 - val_acc: 0.9938\n",
            "Epoch 20/20\n",
            "60000/60000 [==============================] - 146s 2ms/step - loss: 0.0135 - acc: 0.9961 - val_loss: 0.0176 - val_acc: 0.9951\n",
            "Test loss: 0.01762573420686531\n",
            "Test accuracy: 0.9951\n"
          ],
          "name": "stdout"
        },
        {
          "output_type": "display_data",
          "data": {
            "image/png": "[encoded data removed]",
            "text/plain": [
              "<Figure size 432x288 with 1 Axes>"
            ]
          },
          "metadata": {
            "tags": []
          }
        }
      ]
    },
    {
      "cell_type": "code",
      "metadata": {
        "id": "dbg0yE16qZ5q",
        "colab_type": "code",
        "colab": {
          "base_uri": "https://localhost:8080/",
          "height": 35
        },
        "outputId": "6797c2c1-c780-4c50-c8f6-04bc99b9ee06"
      },
      "source": [
        ""
      ],
      "execution_count": 21,
      "outputs": [
        {
          "output_type": "stream",
          "text": [
            "{'batch_size': 32, 'kernel_n': 3}\n"
          ],
          "name": "stdout"
        }
      ]
    },
    {
      "cell_type": "markdown",
      "metadata": {
        "id": "6kBawUoX6yzy",
        "colab_type": "text"
      },
      "source": [
        "## Comparision"
      ]
    },
    {
      "cell_type": "code",
      "metadata": {
        "id": "w_QTj7zBq3Yf",
        "colab_type": "code",
        "colab": {
          "base_uri": "https://localhost:8080/",
          "height": 215
        },
        "outputId": "a740a624-e9d5-430d-dbcb-ec962064a34e"
      },
      "source": [
        "from prettytable import PrettyTable\n",
        "print('Accuracy comparision')\n",
        "\n",
        "x= PrettyTable(['Model', 'Batch_size', 'Validation Score', 'Observation'])\n",
        "x.add_row(['Model 1', '64', '99.33', 'This is the simplest model with same kernel values, best kernel being (7x7)'])\n",
        "x.add_row(['Model 2', '32', '99.44', 'This is a 3 layer model with same kernel size, best hyperparameter is (7x7) kernel size and batch size= 32'])\n",
        "x.add_row(['Model 3', '64', '99.34', 'This is a 3 layer model followed by a dense layer,we have varied kernel size with layers in this model, this model is also starting to overfit'])\n",
        "x.add_row(['Model 4', '32', '99.35', 'The model is starting to overfit looking at loss vs epochs curve'])\n",
        "x.add_row(['Model 5', '32', '99.5', 'This seems like the best model among all, I have mixed together kernels with layers and dropouts, also the model is not overfitting'])\n",
        "x.align= 'l'\n",
        "print(x)"
      ],
      "execution_count": 7,
      "outputs": [
        {
          "output_type": "stream",
          "text": [
            "Accuracy comparision\n",
            "+---------+------------+------------------+------------------------------------------------------------------------------------------------------------------------------------------------+\n",
            "| Model   | Batch_size | Validation Score | Observation                                                                                                                                    |\n",
            "+---------+------------+------------------+------------------------------------------------------------------------------------------------------------------------------------------------+\n",
            "| Model 1 | 64         | 99.33            | This is the simplest model with same kernel values, best kernel being (7x7)                                                                    |\n",
            "| Model 2 | 32         | 99.44            | This is a 3 layer model with same kernel size, best hyperparameter is (7x7) kernel size and batch size= 32                                     |\n",
            "| Model 3 | 64         | 99.34            | This is a 3 layer model followed by a dense layer,we have varied kernel size with layers in this model, this model is also starting to overfit |\n",
            "| Model 4 | 32         | 99.35            | The model is starting to overfit looking at loss vs epochs curve                                                                               |\n",
            "| Model 5 | 32         | 99.5             | This seems like the best model among all, I have mixed together kernels with layers and dropouts, also the model is not overfitting            |\n",
            "+---------+------------+------------------+------------------------------------------------------------------------------------------------------------------------------------------------+\n"
          ],
          "name": "stdout"
        }
      ]
    },
    {
      "cell_type": "code",
      "metadata": {
        "id": "UAy6x31x6vbG",
        "colab_type": "code",
        "colab": {}
      },
      "source": [
        ""
      ],
      "execution_count": 0,
      "outputs": []
    },
    {
      "cell_type": "code",
      "metadata": {
        "id": "ijua8QtN6vTM",
        "colab_type": "code",
        "colab": {}
      },
      "source": [
        ""
      ],
      "execution_count": 0,
      "outputs": []
    },
    {
      "cell_type": "code",
      "metadata": {
        "id": "3e_IzoZC6vEd",
        "colab_type": "code",
        "colab": {}
      },
      "source": [
        ""
      ],
      "execution_count": 0,
      "outputs": []
    },
    {
      "cell_type": "code",
      "metadata": {
        "id": "watbNCPSYhUy",
        "colab_type": "code",
        "colab": {}
      },
      "source": [
        ""
      ],
      "execution_count": 0,
      "outputs": []
    }
  ]
}